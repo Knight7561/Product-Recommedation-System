{
 "cells": [
  {
   "cell_type": "markdown",
   "metadata": {},
   "source": [
    "# import lib"
   ]
  },
  {
   "cell_type": "code",
   "execution_count": 1,
   "metadata": {},
   "outputs": [
    {
     "name": "stderr",
     "output_type": "stream",
     "text": [
      "Using TensorFlow backend.\n"
     ]
    }
   ],
   "source": [
    "import os\n",
    "import re\n",
    "import ftfy\n",
    "import nltk\n",
    "import smtplib\n",
    "import numpy as np\n",
    "import pandas as pd\n",
    "import pickle as pkl\n",
    "from pathlib import Path\n",
    "from nltk import PorterStemmer\n",
    "from nltk.corpus import stopwords\n",
    "from gensim.models import KeyedVectors\n",
    "from keras.models import model_from_json\n",
    "from keras.preprocessing.sequence import pad_sequences"
   ]
  },
  {
   "cell_type": "markdown",
   "metadata": {},
   "source": [
    "# intialize the file name"
   ]
  },
  {
   "cell_type": "code",
   "execution_count": 2,
   "metadata": {},
   "outputs": [],
   "source": [
    "input_dir = 'input'\n",
    "model_dir = 'model'\n",
    "model_str_file = 'model_structure.json'\n",
    "model_weights_file = 'model_weights.h5'\n",
    "cword_file = 'cword_dict.pkl'\n",
    "tokenizer_file = 'tokens.pkl'\n",
    "# tokenizer_file = 'tokenizer.pickle'"
   ]
  },
  {
   "cell_type": "code",
   "execution_count": 3,
   "metadata": {},
   "outputs": [
    {
     "name": "stdout",
     "output_type": "stream",
     "text": [
      "['neg', 'pos']\n"
     ]
    }
   ],
   "source": [
    "class_names = [\n",
    "     'neg',\n",
    "    'pos'   \n",
    "]\n",
    "print(class_names)"
   ]
  },
  {
   "cell_type": "code",
   "execution_count": 4,
   "metadata": {},
   "outputs": [],
   "source": [
    "cList = pkl.load(open(os.path.join(input_dir,cword_file),'rb'))"
   ]
  },
  {
   "cell_type": "code",
   "execution_count": 5,
   "metadata": {},
   "outputs": [],
   "source": [
    "c_re = re.compile('(%s)' % '|'.join(cList.keys()))"
   ]
  },
  {
   "cell_type": "code",
   "execution_count": 6,
   "metadata": {},
   "outputs": [],
   "source": [
    "trained_tokenizer = pkl.load(open(os.path.join(model_dir,tokenizer_file),'rb'))"
   ]
  },
  {
   "cell_type": "markdown",
   "metadata": {},
   "source": [
    "# convert the short word to normal"
   ]
  },
  {
   "cell_type": "code",
   "execution_count": 7,
   "metadata": {},
   "outputs": [],
   "source": [
    "def expandContractions(text, c_re=c_re):\n",
    "    def replace(match):\n",
    "        return cList[match.group(0)]\n",
    "    return c_re.sub(replace, text)"
   ]
  },
  {
   "cell_type": "markdown",
   "metadata": {},
   "source": [
    "# clean the text using NLP"
   ]
  },
  {
   "cell_type": "code",
   "execution_count": 8,
   "metadata": {},
   "outputs": [],
   "source": [
    "def clean_review(reviews):\n",
    "    cleaned_review = []\n",
    "    for review in reviews:\n",
    "        review = str(review)\n",
    "        if re.match(\"(\\w+:\\/\\/\\S+)\", review) == None:\n",
    "            review = ' '.join(re.sub(\"(@[A-Za-z]+)|(\\#[A-Za-z]+)|(<Emoji:.*>)|(pic\\.twitter\\.com\\/.*)\", \" \", review).split())\n",
    "            review = ftfy.fix_text(review)\n",
    "            review = expandContractions(review)\n",
    "            review = ' '.join(re.sub(\"([^A-Za-z \\t])\", \" \", review).split())\n",
    "            stop_words = stopwords.words('english')\n",
    "            word_tokens = nltk.word_tokenize(review) \n",
    "            filtered_sentence = [w for w in word_tokens if not w in stop_words]\n",
    "            review = ' '.join(filtered_sentence)\n",
    "#             review = PorterStemmer().stem(review)\n",
    "            cleaned_review.append(review.lower())\n",
    "    return cleaned_review"
   ]
  },
  {
   "cell_type": "code",
   "execution_count": 9,
   "metadata": {},
   "outputs": [],
   "source": [
    "def load_trained_model(model_str_path, model_wt_path):\n",
    "    f = Path(model_str_path)\n",
    "    model_structure = f.read_text()\n",
    "    trained_model = model_from_json(model_structure)\n",
    "    trained_model.load_weights(model_wt_path)\n",
    "    return trained_model"
   ]
  },
  {
   "cell_type": "code",
   "execution_count": 10,
   "metadata": {},
   "outputs": [],
   "source": [
    "str_path = os.path.join(model_dir,model_str_file)\n",
    "wt_path = os.path.join(model_dir,model_weights_file)"
   ]
  },
  {
   "cell_type": "code",
   "execution_count": 11,
   "metadata": {},
   "outputs": [],
   "source": [
    "trained_model = load_trained_model(str_path, wt_path)"
   ]
  },
  {
   "cell_type": "code",
   "execution_count": 12,
   "metadata": {},
   "outputs": [
    {
     "name": "stdout",
     "output_type": "stream",
     "text": [
      "_________________________________________________________________\n",
      "Layer (type)                 Output Shape              Param #   \n",
      "=================================================================\n",
      "embedding_1 (Embedding)      (None, 140, 300)          6000000   \n",
      "_________________________________________________________________\n",
      "dropout_1 (Dropout)          (None, 140, 300)          0         \n",
      "_________________________________________________________________\n",
      "conv1d_1 (Conv1D)            (None, 136, 32)           48032     \n",
      "_________________________________________________________________\n",
      "max_pooling1d_1 (MaxPooling1 (None, 68, 32)            0         \n",
      "_________________________________________________________________\n",
      "dropout_2 (Dropout)          (None, 68, 32)            0         \n",
      "_________________________________________________________________\n",
      "conv1d_2 (Conv1D)            (None, 64, 64)            10304     \n",
      "_________________________________________________________________\n",
      "max_pooling1d_2 (MaxPooling1 (None, 32, 64)            0         \n",
      "_________________________________________________________________\n",
      "dropout_3 (Dropout)          (None, 32, 64)            0         \n",
      "_________________________________________________________________\n",
      "conv1d_3 (Conv1D)            (None, 28, 128)           41088     \n",
      "_________________________________________________________________\n",
      "max_pooling1d_3 (MaxPooling1 (None, 14, 128)           0         \n",
      "_________________________________________________________________\n",
      "dropout_4 (Dropout)          (None, 14, 128)           0         \n",
      "_________________________________________________________________\n",
      "lstm_1 (LSTM)                (None, 100)               91600     \n",
      "_________________________________________________________________\n",
      "dense_1 (Dense)              (None, 1)                 101       \n",
      "=================================================================\n",
      "Total params: 6,191,125\n",
      "Trainable params: 6,191,125\n",
      "Non-trainable params: 0\n",
      "_________________________________________________________________\n"
     ]
    }
   ],
   "source": [
    "trained_model.summary()"
   ]
  },
  {
   "cell_type": "markdown",
   "metadata": {},
   "source": [
    "# read data from folder"
   ]
  },
  {
   "cell_type": "code",
   "execution_count": 13,
   "metadata": {},
   "outputs": [],
   "source": [
    "df_idf = pd.read_csv(\"input/Final_reviews.csv\")"
   ]
  },
  {
   "cell_type": "code",
   "execution_count": 14,
   "metadata": {
    "scrolled": false
   },
   "outputs": [
    {
     "data": {
      "text/html": [
       "<div>\n",
       "<style scoped>\n",
       "    .dataframe tbody tr th:only-of-type {\n",
       "        vertical-align: middle;\n",
       "    }\n",
       "\n",
       "    .dataframe tbody tr th {\n",
       "        vertical-align: top;\n",
       "    }\n",
       "\n",
       "    .dataframe thead th {\n",
       "        text-align: right;\n",
       "    }\n",
       "</style>\n",
       "<table border=\"1\" class=\"dataframe\">\n",
       "  <thead>\n",
       "    <tr style=\"text-align: right;\">\n",
       "      <th></th>\n",
       "      <th>Name</th>\n",
       "      <th>Score</th>\n",
       "      <th>Keyword</th>\n",
       "      <th>Time</th>\n",
       "      <th>Purchase</th>\n",
       "      <th>Text</th>\n",
       "      <th>votes</th>\n",
       "      <th>Helpful_Votes</th>\n",
       "      <th>Experience</th>\n",
       "      <th>product_name</th>\n",
       "    </tr>\n",
       "  </thead>\n",
       "  <tbody>\n",
       "    <tr>\n",
       "      <th>0</th>\n",
       "      <td>Riswana Rinu</td>\n",
       "      <td>4</td>\n",
       "      <td>Four Stars</td>\n",
       "      <td>11-Jul-18</td>\n",
       "      <td>Verified Purchase</td>\n",
       "      <td>Nice one</td>\n",
       "      <td>NaN</td>\n",
       "      <td>23.0</td>\n",
       "      <td>2</td>\n",
       "      <td>Geneva Platinum Silicone Strap Analogue Watch ...</td>\n",
       "    </tr>\n",
       "    <tr>\n",
       "      <th>1</th>\n",
       "      <td>Archana Lokhande</td>\n",
       "      <td>5</td>\n",
       "      <td>Royal blue color lovers....</td>\n",
       "      <td>9-Jan-19</td>\n",
       "      <td>Verified Purchase</td>\n",
       "      <td>Nice watch for womens. I love Royal blue color...</td>\n",
       "      <td>NaN</td>\n",
       "      <td>20.0</td>\n",
       "      <td>2</td>\n",
       "      <td>Geneva Platinum Silicone Strap Analogue Watch ...</td>\n",
       "    </tr>\n",
       "    <tr>\n",
       "      <th>2</th>\n",
       "      <td>heena</td>\n",
       "      <td>1</td>\n",
       "      <td>Very bad</td>\n",
       "      <td>4-Dec-18</td>\n",
       "      <td>Verified Purchase</td>\n",
       "      <td>Dont buy it .stucks many times nt money worthy...</td>\n",
       "      <td>14 people found this helpful</td>\n",
       "      <td>15.0</td>\n",
       "      <td>1</td>\n",
       "      <td>Geneva Platinum Silicone Strap Analogue Watch ...</td>\n",
       "    </tr>\n",
       "    <tr>\n",
       "      <th>3</th>\n",
       "      <td>Atul Mishra</td>\n",
       "      <td>5</td>\n",
       "      <td>Five Stars</td>\n",
       "      <td>25-Apr-18</td>\n",
       "      <td>Verified Purchase</td>\n",
       "      <td>Nice watch &amp; nice colour</td>\n",
       "      <td>9 people found this helpful</td>\n",
       "      <td>10.0</td>\n",
       "      <td>2</td>\n",
       "      <td>Geneva Platinum Silicone Strap Analogue Watch ...</td>\n",
       "    </tr>\n",
       "    <tr>\n",
       "      <th>4</th>\n",
       "      <td>Manaswini s</td>\n",
       "      <td>5</td>\n",
       "      <td>Five Stars</td>\n",
       "      <td>29-Mar-18</td>\n",
       "      <td>Verified Purchase</td>\n",
       "      <td>Super</td>\n",
       "      <td>5 people found this helpful</td>\n",
       "      <td>5.0</td>\n",
       "      <td>1</td>\n",
       "      <td>Geneva Platinum Silicone Strap Analogue Watch ...</td>\n",
       "    </tr>\n",
       "  </tbody>\n",
       "</table>\n",
       "</div>"
      ],
      "text/plain": [
       "               Name  Score                      Keyword       Time  \\\n",
       "0      Riswana Rinu      4                   Four Stars  11-Jul-18   \n",
       "1  Archana Lokhande      5  Royal blue color lovers....   9-Jan-19   \n",
       "2             heena      1                     Very bad   4-Dec-18   \n",
       "3       Atul Mishra      5                   Five Stars  25-Apr-18   \n",
       "4       Manaswini s      5                   Five Stars  29-Mar-18   \n",
       "\n",
       "            Purchase                                               Text  \\\n",
       "0  Verified Purchase                                           Nice one   \n",
       "1  Verified Purchase  Nice watch for womens. I love Royal blue color...   \n",
       "2  Verified Purchase  Dont buy it .stucks many times nt money worthy...   \n",
       "3  Verified Purchase                           Nice watch & nice colour   \n",
       "4  Verified Purchase                                              Super   \n",
       "\n",
       "                          votes  Helpful_Votes  Experience  \\\n",
       "0                           NaN           23.0           2   \n",
       "1                           NaN           20.0           2   \n",
       "2  14 people found this helpful           15.0           1   \n",
       "3   9 people found this helpful           10.0           2   \n",
       "4   5 people found this helpful            5.0           1   \n",
       "\n",
       "                                        product_name  \n",
       "0  Geneva Platinum Silicone Strap Analogue Watch ...  \n",
       "1  Geneva Platinum Silicone Strap Analogue Watch ...  \n",
       "2  Geneva Platinum Silicone Strap Analogue Watch ...  \n",
       "3  Geneva Platinum Silicone Strap Analogue Watch ...  \n",
       "4  Geneva Platinum Silicone Strap Analogue Watch ...  "
      ]
     },
     "execution_count": 14,
     "metadata": {},
     "output_type": "execute_result"
    }
   ],
   "source": [
    "df_idf.head()"
   ]
  },
  {
   "cell_type": "code",
   "execution_count": 15,
   "metadata": {},
   "outputs": [],
   "source": [
    "df_idf.dropna(axis=0,inplace=True)"
   ]
  },
  {
   "cell_type": "markdown",
   "metadata": {},
   "source": [
    "# take only the importend column "
   ]
  },
  {
   "cell_type": "code",
   "execution_count": 16,
   "metadata": {},
   "outputs": [],
   "source": [
    "df1 = df_idf[['Keyword','Score','Text','Purchase','Helpful_Votes','Experience','product_name']].copy()"
   ]
  },
  {
   "cell_type": "code",
   "execution_count": 17,
   "metadata": {
    "scrolled": true
   },
   "outputs": [
    {
     "data": {
      "text/html": [
       "<div>\n",
       "<style scoped>\n",
       "    .dataframe tbody tr th:only-of-type {\n",
       "        vertical-align: middle;\n",
       "    }\n",
       "\n",
       "    .dataframe tbody tr th {\n",
       "        vertical-align: top;\n",
       "    }\n",
       "\n",
       "    .dataframe thead th {\n",
       "        text-align: right;\n",
       "    }\n",
       "</style>\n",
       "<table border=\"1\" class=\"dataframe\">\n",
       "  <thead>\n",
       "    <tr style=\"text-align: right;\">\n",
       "      <th></th>\n",
       "      <th>Keyword</th>\n",
       "      <th>Score</th>\n",
       "      <th>Text</th>\n",
       "      <th>Purchase</th>\n",
       "      <th>Helpful_Votes</th>\n",
       "      <th>Experience</th>\n",
       "      <th>product_name</th>\n",
       "    </tr>\n",
       "  </thead>\n",
       "  <tbody>\n",
       "    <tr>\n",
       "      <th>2</th>\n",
       "      <td>Very bad</td>\n",
       "      <td>1</td>\n",
       "      <td>Dont buy it .stucks many times nt money worthy...</td>\n",
       "      <td>Verified Purchase</td>\n",
       "      <td>15.0</td>\n",
       "      <td>1</td>\n",
       "      <td>Geneva Platinum Silicone Strap Analogue Watch ...</td>\n",
       "    </tr>\n",
       "    <tr>\n",
       "      <th>3</th>\n",
       "      <td>Five Stars</td>\n",
       "      <td>5</td>\n",
       "      <td>Nice watch &amp; nice colour</td>\n",
       "      <td>Verified Purchase</td>\n",
       "      <td>10.0</td>\n",
       "      <td>2</td>\n",
       "      <td>Geneva Platinum Silicone Strap Analogue Watch ...</td>\n",
       "    </tr>\n",
       "    <tr>\n",
       "      <th>4</th>\n",
       "      <td>Five Stars</td>\n",
       "      <td>5</td>\n",
       "      <td>Super</td>\n",
       "      <td>Verified Purchase</td>\n",
       "      <td>5.0</td>\n",
       "      <td>1</td>\n",
       "      <td>Geneva Platinum Silicone Strap Analogue Watch ...</td>\n",
       "    </tr>\n",
       "    <tr>\n",
       "      <th>5</th>\n",
       "      <td>Nice trendy watch for kids</td>\n",
       "      <td>5</td>\n",
       "      <td>Very nice and stylish watch for kids. The Blue...</td>\n",
       "      <td>Verified Purchase</td>\n",
       "      <td>12.0</td>\n",
       "      <td>4</td>\n",
       "      <td>Geneva Platinum Silicone Strap Analogue Watch ...</td>\n",
       "    </tr>\n",
       "    <tr>\n",
       "      <th>6</th>\n",
       "      <td>Wonderful Product</td>\n",
       "      <td>5</td>\n",
       "      <td>Its a nice one looks Cool on the wrist of my w...</td>\n",
       "      <td>Verified Purchase</td>\n",
       "      <td>2.0</td>\n",
       "      <td>1</td>\n",
       "      <td>Geneva Platinum Silicone Strap Analogue Watch ...</td>\n",
       "    </tr>\n",
       "  </tbody>\n",
       "</table>\n",
       "</div>"
      ],
      "text/plain": [
       "                      Keyword  Score  \\\n",
       "2                    Very bad      1   \n",
       "3                  Five Stars      5   \n",
       "4                  Five Stars      5   \n",
       "5  Nice trendy watch for kids      5   \n",
       "6           Wonderful Product      5   \n",
       "\n",
       "                                                Text           Purchase  \\\n",
       "2  Dont buy it .stucks many times nt money worthy...  Verified Purchase   \n",
       "3                           Nice watch & nice colour  Verified Purchase   \n",
       "4                                              Super  Verified Purchase   \n",
       "5  Very nice and stylish watch for kids. The Blue...  Verified Purchase   \n",
       "6  Its a nice one looks Cool on the wrist of my w...  Verified Purchase   \n",
       "\n",
       "   Helpful_Votes  Experience  \\\n",
       "2           15.0           1   \n",
       "3           10.0           2   \n",
       "4            5.0           1   \n",
       "5           12.0           4   \n",
       "6            2.0           1   \n",
       "\n",
       "                                        product_name  \n",
       "2  Geneva Platinum Silicone Strap Analogue Watch ...  \n",
       "3  Geneva Platinum Silicone Strap Analogue Watch ...  \n",
       "4  Geneva Platinum Silicone Strap Analogue Watch ...  \n",
       "5  Geneva Platinum Silicone Strap Analogue Watch ...  \n",
       "6  Geneva Platinum Silicone Strap Analogue Watch ...  "
      ]
     },
     "execution_count": 17,
     "metadata": {},
     "output_type": "execute_result"
    }
   ],
   "source": [
    "df1.head()"
   ]
  },
  {
   "cell_type": "code",
   "execution_count": 18,
   "metadata": {},
   "outputs": [],
   "source": [
    "df1.to_csv('input/c_data.csv')"
   ]
  },
  {
   "cell_type": "code",
   "execution_count": 19,
   "metadata": {},
   "outputs": [
    {
     "data": {
      "text/plain": [
       "array(['Verified Purchase'], dtype=object)"
      ]
     },
     "execution_count": 19,
     "metadata": {},
     "output_type": "execute_result"
    }
   ],
   "source": [
    "df1['Purchase'].unique()"
   ]
  },
  {
   "cell_type": "code",
   "execution_count": 20,
   "metadata": {
    "scrolled": true
   },
   "outputs": [
    {
     "data": {
      "text/plain": [
       "array([ 15.,  10.,   5.,  12.,   2.,   8.,   4.,   3.,  52.,  39.,  20.,\n",
       "         1.,   0.,  18., 214.,  24., 176., 196., 273., 109., 254., 190.,\n",
       "        62., 265.,  63.,  41.,  67., 293.,  85., 150.,  40., 104., 116.,\n",
       "       195., 137., 174., 141.,  31., 106.,  78., 160., 125.,  74.,  92.,\n",
       "       135.,  44.,  73.,  57.,  14., 117., 102., 184., 147.,  88.,  94.,\n",
       "       183.,  93.,  25.,  21.,  96.,  61.,  71.,  17.,  95., 193.,  59.,\n",
       "       172.,  69.,  56.,  79.,  81., 123.,  89., 130.,  22., 111.,  34.,\n",
       "       166.,  97.,  32., 127.,  86., 134.,  48., 191.,   9.,  54., 197.,\n",
       "       101., 167., 159., 121.,  82.,  36.,  50.,  29., 145.,  28.,  64.,\n",
       "       131., 148., 120.,  47.,  77., 110., 187.,  53., 114., 173., 138.,\n",
       "        35.,  46.,  30., 115., 188., 142.,   6., 155.,  11.,  65.,  80.,\n",
       "        13., 139., 152., 156., 204., 309., 355., 427., 424., 414., 258.,\n",
       "       354., 432., 263., 245., 397., 259., 143., 208., 237., 242., 278.,\n",
       "       251., 170., 218., 268., 267., 252., 339.,  38., 154., 310., 226.,\n",
       "       162., 389., 212., 272., 345., 383., 236., 370., 294., 317., 303.,\n",
       "       357., 327., 140., 168.,  84.,  23.,  75., 133., 113., 157., 118.,\n",
       "       198., 158.,  99.,  37.,  60., 119.,  83., 179., 185.,  55.,  66.,\n",
       "        33.,  43., 105., 181., 186., 189., 177., 100., 129., 164., 205.,\n",
       "       108., 146., 234.,  42., 201., 149.,  58., 107.,  49., 192., 136.,\n",
       "       232., 225., 206., 122., 230., 126.,  68.,  45.,  51.,  72.,  26.,\n",
       "       217., 224., 223., 203., 210., 220.,   7.,  98., 169., 180.,  87.,\n",
       "        76.,  16., 324., 290., 442., 405., 144., 320., 277., 301., 283.,\n",
       "       412., 403., 436., 305., 216., 326., 395., 396., 163., 333., 360.,\n",
       "       128., 175., 415., 382., 300., 260., 313., 222., 384., 209., 221.,\n",
       "       328., 369., 449., 407., 325., 413., 411., 132., 124., 334., 299.,\n",
       "       393.,  91., 352., 312., 296., 445., 285., 378., 428., 243., 344.,\n",
       "       431., 202., 419., 151., 385., 372., 314., 346., 337., 371., 435.,\n",
       "       420., 359., 215., 350., 112., 276., 287., 103., 171., 387., 336.,\n",
       "       423., 153., 416., 165., 377., 246., 281., 291., 362., 161.,  27.,\n",
       "       194., 288., 348., 373., 256., 417., 391., 298., 295., 211., 244.,\n",
       "       253., 270.,  19., 269., 248., 284., 240., 289., 219., 255., 235.,\n",
       "        70., 297.,  90., 200., 182., 213., 266., 231., 233., 261., 247.,\n",
       "       274., 279., 286., 229., 271., 228., 567., 678., 980., 557., 453.,\n",
       "       768., 677., 786., 789., 178., 241., 239., 207., 249., 199., 438.,\n",
       "       353., 318., 308., 390., 367., 335., 316., 351., 408., 363., 282.,\n",
       "       440., 238., 429., 319., 399., 398., 450., 410., 380., 394., 418.,\n",
       "       446., 388., 332., 400., 386., 361., 302., 264., 331., 447., 311.,\n",
       "       306., 280., 381., 321., 422., 437., 433., 441., 409., 330., 430.,\n",
       "       444., 257., 358., 366., 340., 307., 329., 338., 227., 425., 426.,\n",
       "       342., 448., 451., 349., 443., 341., 292.])"
      ]
     },
     "execution_count": 20,
     "metadata": {},
     "output_type": "execute_result"
    }
   ],
   "source": [
    "df1['Helpful_Votes'].unique()"
   ]
  },
  {
   "cell_type": "markdown",
   "metadata": {},
   "source": [
    "# get the prodect name"
   ]
  },
  {
   "cell_type": "code",
   "execution_count": 21,
   "metadata": {
    "scrolled": false
   },
   "outputs": [
    {
     "data": {
      "text/plain": [
       "array(['Geneva Platinum Silicone Strap Analogue Watch for Women & Girls - GP-379',\n",
       "       \"Geneva Platinum Analogue Gold Dial Women's Watch -GNV01\",\n",
       "       \"IIk Collection Watches Stainless Steel Chain Day and Date Analogue Silver Dial Women's Watch\",\n",
       "       \"NUBELA Analogue Prizam Glass Black Dial Girl's Watch\",\n",
       "       'Analogue Pink',\n",
       "       \"Sonata Analog Champagne Dial Women's Watch-NK87018YM01\",\n",
       "       \"Sonata Analog White Dial Women's Watch -NJ8989PP03C\",\n",
       "       \"Everyday Analog Black Dial Women's Watch -NK8085SM01\",\n",
       "       \"Sonata SFAL Analog Silver Dial Women's Watch -NK8080SM01\",\n",
       "       \"Timewear Analogue Round Beige Dial Women's Watch - 107Wdtl\",\n",
       "       \"TIMEWEAR Analogue Brown Dial Women's Watch - 134Bdtl\",\n",
       "       \"Sonata SFAL Analog Silver Dial Women's Watch -NK8080SM-3372\",\n",
       "       \"Adamo Analog Blue Dial Women's Watch-9710SM01\",\n",
       "       \"ADAMO Aritocrat Women's & Girl's Watch BG-335\",\n",
       "       \"Imperious Analog Women's Watch 1021-1031\",\n",
       "       \"IIK Collection Watches Analogue Silver Dial Girl's & Women's Analogue Watch - IIK-1033W\",\n",
       "       \"Sonata Analog White Dial Women's Watch -NJ8976SM01W\",\n",
       "       \"Geneva Platinum Analogue Rose Gold Dial Women's Watch- Gp-649\",\n",
       "       \"A R Sales Analogue Girl's and Women's Watch\",\n",
       "       \"Foxter Bangel Analog White Dial Women's Watch\",\n",
       "       'Howdy Women Watch'], dtype=object)"
      ]
     },
     "execution_count": 21,
     "metadata": {},
     "output_type": "execute_result"
    }
   ],
   "source": [
    "df1['product_name'].unique()"
   ]
  },
  {
   "cell_type": "code",
   "execution_count": 22,
   "metadata": {},
   "outputs": [
    {
     "data": {
      "text/plain": [
       "21"
      ]
     },
     "execution_count": 22,
     "metadata": {},
     "output_type": "execute_result"
    }
   ],
   "source": [
    "len(df1['product_name'].unique())"
   ]
  },
  {
   "cell_type": "code",
   "execution_count": 23,
   "metadata": {},
   "outputs": [],
   "source": [
    "p_name = \"Geneva Platinum Analogue Rose Gold Dial Women's Watch- Gp-649\""
   ]
  },
  {
   "cell_type": "markdown",
   "metadata": {},
   "source": [
    "# apply the condition for importend reviews"
   ]
  },
  {
   "cell_type": "code",
   "execution_count": 24,
   "metadata": {},
   "outputs": [],
   "source": [
    "core_review = []"
   ]
  },
  {
   "cell_type": "code",
   "execution_count": 25,
   "metadata": {},
   "outputs": [],
   "source": [
    "for i,j in df1.iterrows():\n",
    "    if j['product_name'] == p_name:\n",
    "        if j['Experience'] >= 2 and j['Helpful_Votes'] >=10 and j['Purchase'] == 'Verified Purchase':\n",
    "            \n",
    "            core_review.append(j['Text'])\n",
    "#             p_review.append(j['Review'])\n",
    "#             p_key.append(j['Keyword'])\n",
    "            \n",
    "#             n_review.append(j['Review'])\n",
    "#             n_key.append(j['Keyword'])"
   ]
  },
  {
   "cell_type": "code",
   "execution_count": 26,
   "metadata": {
    "scrolled": true
   },
   "outputs": [],
   "source": [
    "cleaned_text = clean_review(core_review)\n",
    "# n_cleaned_text = clean_review(n_review)"
   ]
  },
  {
   "cell_type": "code",
   "execution_count": 27,
   "metadata": {},
   "outputs": [
    {
     "name": "stdout",
     "output_type": "stream",
     "text": [
      "[[20, 2, 485, 38, 1309, 30, 75, 50, 18, 1308, 391, 23, 2, 5, 31, 3], [13, 444, 318, 45], [13, 58, 511, 1, 52, 7, 1917], [7, 19, 3], [1, 24, 134, 29, 875, 23], [603, 1, 51, 85, 143, 1, 7, 408, 111, 5, 159, 90, 597, 128, 24, 87, 2, 544, 104], [25, 11, 242, 260, 17, 436, 831, 75, 874, 1919], [39, 20, 100, 24], [14, 49, 1920, 43, 289, 159, 3], [40, 45, 3, 210, 281, 24], [7, 11, 45, 6, 39, 68, 74, 670, 12], [7, 25, 25, 3, 85, 414, 175, 321, 228, 634, 7, 127, 3, 27, 304, 353], [6, 114, 77, 51, 25, 16, 547, 543, 15, 673, 379, 228], [86, 3, 354, 190, 235, 1173, 101, 539, 712, 1926], [13, 23, 185, 41, 28, 51, 30, 426, 894, 101, 57, 146, 22, 10, 88, 57, 500, 544, 407, 65], [7, 1, 3, 21, 9], [460, 45, 3], [1, 73, 213, 502], [283, 20, 2], [1, 14], [148, 3, 2718, 2719, 633, 214, 2720, 562, 68, 74, 11, 618, 54], [44, 20], [40, 3, 278, 123, 435, 1930, 348, 27, 1931, 724, 435], [48, 209, 774, 4, 3], [15, 61], [68, 74], [8, 136], [48, 3], [25], [120, 29, 2, 30, 2, 85, 586, 1933, 880, 254, 117, 1, 1175, 1934], [25, 477, 49, 57], [3, 159], [1, 368], [16, 20, 95, 8, 4, 72], [1, 14], [8, 4, 3, 2721, 1319, 2722, 2723, 1319, 2724], [18, 297, 50, 917], [261, 105, 17, 84, 97, 519, 144, 24], [5, 31, 68, 74, 43, 337, 220, 131, 23], [3, 37, 38, 31], [7, 1, 3, 121, 196, 2725], [5, 145, 12, 5, 140, 70], [33, 11, 4], [1], [7, 2727, 37, 129], [96, 127, 65], [735, 2, 2728, 124, 169, 37, 142, 22, 104], [23, 185, 20, 844, 232, 1187, 557, 21, 9], [7, 1, 233, 529], [1], [895, 1, 214, 531, 49, 1935, 586, 1936], [47, 6], [111, 1], [30, 3, 290, 190, 1937], [30, 274, 84, 181, 79, 484], [63, 2, 193, 2729, 2730, 2731], [20, 3], [5, 12, 2], [86, 3], [5, 12, 1178, 61], [1938], [117, 4, 147, 29, 198, 1, 2732, 2733], [43, 1, 88, 23, 1030], [1, 16, 14, 51, 84, 30, 85, 389, 289], [936, 9], [4, 2], [13, 3, 1939, 28, 60, 1940], [1, 3], [47, 6], [1, 3], [2, 25, 18, 50], [8, 1], [37, 38, 60, 42], [4], [8, 19, 6, 121, 57, 14, 97], [47, 6], [4], [28], [1285, 1], [1, 138, 4, 14], [4, 3, 160], [4, 2], [4], [1], [4, 2, 61], [7, 173, 1945, 30], [19, 3], [19, 3], [15, 1, 6], [139, 2], [40, 1104], [283, 2735], [22, 1315], [55, 30, 290, 250], [314, 19, 3, 1179], [3, 1], [9, 716], [5, 31, 5, 34], [270, 18], [4], [160, 2], [8, 4, 2, 30, 185, 28], [25, 2], [77, 6, 58], [1, 14], [86], [1, 21, 9], [139, 85, 2], [1, 3], [4, 2, 72], [63, 14], [1], [15, 17], [8, 19, 3], [7, 26, 122], [20, 2], [46, 3], [252, 69], [4], [19], [63, 22, 10], [15, 1, 52], [183], [1], [1], [4], [15, 587, 19, 3], [1, 282, 23], [19, 3], [11, 169, 38, 11, 1, 14, 204, 30, 323], [1], [25, 10, 231], [15, 1, 3, 223, 3], [89, 3, 58, 43, 1946, 79], [15, 22, 515, 72], [39, 171, 16, 2, 111, 358, 1, 57, 22, 10, 450], [21, 9], [120, 53, 1948, 58, 43, 499, 1077, 1010, 1154], [32, 23, 4, 89], [351, 24, 53, 9, 1949, 14, 103, 1, 1950, 499], [7, 4, 108, 413, 14, 57, 2, 56, 1135, 5, 57, 1951, 175, 24], [145, 24, 30, 1144, 137], [1], [1, 3], [15, 1, 37]]\n"
     ]
    }
   ],
   "source": [
    "sequences_text_token = trained_tokenizer.texts_to_sequences(cleaned_text)\n",
    "print(sequences_text_token)"
   ]
  },
  {
   "cell_type": "code",
   "execution_count": 28,
   "metadata": {},
   "outputs": [
    {
     "name": "stdout",
     "output_type": "stream",
     "text": [
      "Shape of data tensor: (145, 140)\n"
     ]
    }
   ],
   "source": [
    "data = pad_sequences(sequences_text_token, maxlen=140)\n",
    "print('Shape of data tensor:', data.shape)"
   ]
  },
  {
   "cell_type": "code",
   "execution_count": 59,
   "metadata": {},
   "outputs": [],
   "source": [
    "p_review = []\n",
    "n_review = []"
   ]
  },
  {
   "cell_type": "code",
   "execution_count": 60,
   "metadata": {},
   "outputs": [],
   "source": [
    "def predict_result(data, model):\n",
    "    result = model.predict(data)\n",
    "    Y_pred = np.round(result.flatten())\n",
    "    print(Y_pred)\n",
    "    for i in range(len(Y_pred)):\n",
    "        print(\"Text : \",cleaned_text[i])\n",
    "        print(\"Result : \",class_names[int(Y_pred[i])])\n",
    "        m = class_names[int(Y_pred[i])]\n",
    "        if m == 'pos':\n",
    "            p_review.append(cleaned_text[i])\n",
    "        else:\n",
    "            n_review.append(cleaned_text[i])"
   ]
  },
  {
   "cell_type": "code",
   "execution_count": 61,
   "metadata": {
    "scrolled": true
   },
   "outputs": [
    {
     "name": "stdout",
     "output_type": "stream",
     "text": [
      "[1. 0. 0. 0. 1. 0. 0. 1. 0. 0. 0. 0. 0. 0. 0. 1. 0. 1. 1. 1. 1. 1. 0. 1.\n",
      " 0. 1. 1. 1. 0. 0. 0. 1. 0. 1. 1. 1. 1. 0. 1. 1. 1. 0. 1. 1. 0. 0. 1. 1.\n",
      " 0. 1. 0. 0. 1. 0. 0. 1. 1. 1. 0. 0. 0. 1. 1. 0. 1. 1. 1. 1. 0. 1. 0. 1.\n",
      " 1. 1. 0. 0. 1. 1. 1. 1. 1. 1. 1. 1. 1. 0. 0. 0. 0. 1. 0. 1. 1. 0. 0. 1.\n",
      " 0. 1. 0. 1. 1. 1. 0. 0. 1. 0. 1. 0. 1. 1. 1. 1. 0. 0. 1. 1. 1. 0. 1. 0.\n",
      " 1. 0. 1. 1. 1. 1. 0. 1. 0. 1. 1. 0. 0. 0. 0. 1. 1. 0. 1. 0. 0. 0. 1. 1.\n",
      " 0.]\n",
      "Text :  beautiful watch displayed picture catch colour n big dial adds royal look watch i happy product\n",
      "Result :  pos\n",
      "Text :  the strip made cheap\n",
      "Result :  neg\n",
      "Text :  the belt us good expected it folds\n",
      "Result :  neg\n",
      "Text :  it bad product\n",
      "Result :  neg\n",
      "Text :  good buy cost loved whole look\n",
      "Result :  pos\n",
      "Text :  lookwise good but chain material good it delicate so i returned better spend rs buy sonata watch rather buying\n",
      "Result :  neg\n",
      "Text :  ok looks hands r working free stuck n moving ahed\n",
      "Result :  neg\n",
      "Text :  its beautiful must buy\n",
      "Result :  pos\n",
      "Text :  one time handling color faded returned product\n",
      "Result :  neg\n",
      "Text :  worst cheap product ever review buy\n",
      "Result :  neg\n",
      "Text :  it looks cheap quality its light weight did like\n",
      "Result :  neg\n",
      "Text :  it ok ok product chain strong don know long lasting it first product amazon giving stars\n",
      "Result :  neg\n",
      "Text :  quality bit low but ok looking cheaper option not expecting last long\n",
      "Result :  neg\n",
      "Text :  average product can used easily fir months paint starts chipping\n",
      "Result :  neg\n",
      "Text :  the look wise super awesome but colour getting shaded months use still worth price u use occasionally rather regular wear\n",
      "Result :  neg\n",
      "Text :  it good product value money\n",
      "Result :  pos\n",
      "Text :  bakwas cheap product\n",
      "Result :  neg\n",
      "Text :  good little bigger expectation\n",
      "Result :  pos\n",
      "Text :  wow beautiful watch\n",
      "Result :  pos\n",
      "Text :  good one\n",
      "Result :  pos\n",
      "Text :  ordered product wit doubtful mind bt recvng loving light weight looks damn stylish\n",
      "Result :  pos\n",
      "Text :  amazing beautiful\n",
      "Result :  pos\n",
      "Text :  worst product we get rupees platform shop amazon allowed sell rupees\n",
      "Result :  neg\n",
      "Text :  excellent service deliver nice product\n",
      "Result :  pos\n",
      "Text :  not satisfied\n",
      "Result :  neg\n",
      "Text :  light weight\n",
      "Result :  pos\n",
      "Text :  very elegant\n",
      "Result :  pos\n",
      "Text :  excellent product\n",
      "Result :  pos\n",
      "Text :  ok\n",
      "Result :  neg\n",
      "Text :  totally loved watch colour watch chain turned whity shade looked pretty good frm afar\n",
      "Result :  neg\n",
      "Text :  ok normal time use\n",
      "Result :  neg\n",
      "Text :  product returned\n",
      "Result :  pos\n",
      "Text :  good costly\n",
      "Result :  neg\n",
      "Text :  looking beautiful hand very nice go\n",
      "Result :  pos\n",
      "Text :  good one\n",
      "Result :  pos\n",
      "Text :  very nice product jysa ne socha wysa ne paaya\n",
      "Result :  pos\n",
      "Text :  dial slightly big usual\n",
      "Result :  pos\n",
      "Text :  machine stopped working within month will recommend buy\n",
      "Result :  neg\n",
      "Text :  i happy light weight color rose gold cool look\n",
      "Result :  pos\n",
      "Text :  product shown picture happy\n",
      "Result :  pos\n",
      "Text :  it good product even friend orederd\n",
      "Result :  pos\n",
      "Text :  i dont like i return item\n",
      "Result :  neg\n",
      "Text :  best looks nice\n",
      "Result :  pos\n",
      "Text :  good\n",
      "Result :  pos\n",
      "Text :  it beutifulll shown pic\n",
      "Result :  neg\n",
      "Text :  broken first wear\n",
      "Result :  neg\n",
      "Text :  ideal watch young women exactly shown image worth buying\n",
      "Result :  pos\n",
      "Text :  look wise beautiful plus year warrenty makes value money\n",
      "Result :  pos\n",
      "Text :  it good according prize\n",
      "Result :  neg\n",
      "Text :  good\n",
      "Result :  pos\n",
      "Text :  initially good bt period time belts turned blackish\n",
      "Result :  neg\n",
      "Text :  poor quality\n",
      "Result :  neg\n",
      "Text :  so good\n",
      "Result :  pos\n",
      "Text :  colour product changed used timea\n",
      "Result :  neg\n",
      "Text :  colour change within two days usage\n",
      "Result :  neg\n",
      "Text :  superb watch given waiting particular situation\n",
      "Result :  pos\n",
      "Text :  beautiful product\n",
      "Result :  pos\n",
      "Text :  i like watch\n",
      "Result :  pos\n",
      "Text :  average product\n",
      "Result :  neg\n",
      "Text :  i like prices satisfied\n",
      "Result :  neg\n",
      "Text :  eww\n",
      "Result :  neg\n",
      "Text :  pretty nice nd loved think good jobs colleges\n",
      "Result :  pos\n",
      "Text :  color good u look directly\n",
      "Result :  pos\n",
      "Text :  good looking one but within colour chain completely faded\n",
      "Result :  neg\n",
      "Text :  wroth money\n",
      "Result :  pos\n",
      "Text :  nice watch\n",
      "Result :  pos\n",
      "Text :  the product z awesome liked verymuch\n",
      "Result :  pos\n",
      "Text :  good product\n",
      "Result :  pos\n",
      "Text :  poor quality\n",
      "Result :  neg\n",
      "Text :  good product\n",
      "Result :  pos\n",
      "Text :  watch ok dial big\n",
      "Result :  neg\n",
      "Text :  very good\n",
      "Result :  pos\n",
      "Text :  shown picture liked much\n",
      "Result :  pos\n",
      "Text :  nice\n",
      "Result :  pos\n",
      "Text :  very bad quality even use one month\n",
      "Result :  neg\n",
      "Text :  poor quality\n",
      "Result :  neg\n",
      "Text :  nice\n",
      "Result :  pos\n",
      "Text :  awesome\n",
      "Result :  pos\n",
      "Text :  qualitative good\n",
      "Result :  pos\n",
      "Text :  good products nice one\n",
      "Result :  pos\n",
      "Text :  nice product lovely\n",
      "Result :  pos\n",
      "Text :  nice watch\n",
      "Result :  pos\n",
      "Text :  nice\n",
      "Result :  pos\n",
      "Text :  good\n",
      "Result :  pos\n",
      "Text :  nice watch satisfied\n",
      "Result :  pos\n",
      "Text :  it okay loses colour\n",
      "Result :  neg\n",
      "Text :  bad product\n",
      "Result :  neg\n",
      "Text :  bad product\n",
      "Result :  neg\n",
      "Text :  not good quality\n",
      "Result :  neg\n",
      "Text :  cute watch\n",
      "Result :  pos\n",
      "Text :  worst performance\n",
      "Result :  neg\n",
      "Text :  wow lovelly\n",
      "Result :  pos\n",
      "Text :  worth purchasing\n",
      "Result :  pos\n",
      "Text :  strap colour changed black\n",
      "Result :  neg\n",
      "Text :  such bad product worthless\n",
      "Result :  neg\n",
      "Text :  product good\n",
      "Result :  pos\n",
      "Text :  money wasted\n",
      "Result :  neg\n",
      "Text :  i happy i love\n",
      "Result :  pos\n",
      "Text :  scratches dial\n",
      "Result :  neg\n",
      "Text :  nice\n",
      "Result :  pos\n",
      "Text :  lovely watch\n",
      "Result :  pos\n",
      "Text :  very nice watch colour wise awesome\n",
      "Result :  pos\n",
      "Text :  ok watch\n",
      "Result :  neg\n",
      "Text :  low quality belt\n",
      "Result :  neg\n",
      "Text :  good one\n",
      "Result :  pos\n",
      "Text :  average\n",
      "Result :  neg\n",
      "Text :  good value money\n",
      "Result :  pos\n",
      "Text :  cute chain watch\n",
      "Result :  neg\n",
      "Text :  good product\n",
      "Result :  pos\n",
      "Text :  nice watch go\n",
      "Result :  pos\n",
      "Text :  superb one\n",
      "Result :  pos\n",
      "Text :  good\n",
      "Result :  pos\n",
      "Text :  not working\n",
      "Result :  neg\n",
      "Text :  very bad product\n",
      "Result :  neg\n",
      "Text :  it really worthy\n",
      "Result :  pos\n",
      "Text :  beautiful watch\n",
      "Result :  pos\n",
      "Text :  great product\n",
      "Result :  pos\n",
      "Text :  dead battery\n",
      "Result :  neg\n",
      "Text :  nice\n",
      "Result :  pos\n",
      "Text :  bad\n",
      "Result :  neg\n",
      "Text :  superb worth price\n",
      "Result :  pos\n",
      "Text :  not good expected\n",
      "Result :  neg\n",
      "Text :  nyc\n",
      "Result :  pos\n",
      "Text :  good\n",
      "Result :  pos\n",
      "Text :  good\n",
      "Result :  pos\n",
      "Text :  nice\n",
      "Result :  pos\n",
      "Text :  not god bad product\n",
      "Result :  neg\n",
      "Text :  good rich look\n",
      "Result :  pos\n",
      "Text :  bad product\n",
      "Result :  neg\n",
      "Text :  looks exactly picture looks good one side colour gone\n",
      "Result :  pos\n",
      "Text :  good\n",
      "Result :  pos\n",
      "Text :  ok price paid\n",
      "Result :  neg\n",
      "Text :  not good product damage product\n",
      "Result :  neg\n",
      "Text :  wrist product belt color feaded days\n",
      "Result :  neg\n",
      "Text :  not worth hate go\n",
      "Result :  neg\n",
      "Text :  its decent looking watch so far good use worth price definitely\n",
      "Result :  pos\n",
      "Text :  value money\n",
      "Result :  pos\n",
      "Text :  totally waste passthe belt color fade away became rusty\n",
      "Result :  neg\n",
      "Text :  this look nice wrist\n",
      "Result :  pos\n",
      "Text :  pls buy waste money fa one day good begins fade\n",
      "Result :  neg\n",
      "Text :  it nice delivered after one use watch got discolored i use anymore don buy\n",
      "Result :  neg\n",
      "Text :  dont buy colour faiding week\n",
      "Result :  neg\n",
      "Text :  good\n",
      "Result :  pos\n",
      "Text :  good product\n",
      "Result :  pos\n",
      "Text :  not good shown\n",
      "Result :  neg\n"
     ]
    }
   ],
   "source": [
    "predict_result(data=data, model= trained_model)"
   ]
  },
  {
   "cell_type": "markdown",
   "metadata": {},
   "source": [
    "# !!! Thank You !!!"
   ]
  }
 ],
 "metadata": {
  "kernelspec": {
   "display_name": "Python 3",
   "language": "python",
   "name": "python3"
  },
  "language_info": {
   "codemirror_mode": {
    "name": "ipython",
    "version": 3
   },
   "file_extension": ".py",
   "mimetype": "text/x-python",
   "name": "python",
   "nbconvert_exporter": "python",
   "pygments_lexer": "ipython3",
   "version": "3.7.4"
  }
 },
 "nbformat": 4,
 "nbformat_minor": 2
}
